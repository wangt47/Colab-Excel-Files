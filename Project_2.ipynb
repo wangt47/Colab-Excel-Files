{
  "nbformat": 4,
  "nbformat_minor": 0,
  "metadata": {
    "colab": {
      "name": "Project_2.ipynb",
      "provenance": [],
      "collapsed_sections": [],
      "include_colab_link": true
    },
    "kernelspec": {
      "name": "python3",
      "display_name": "Python 3"
    }
  },
  "cells": [
    {
      "cell_type": "markdown",
      "metadata": {
        "id": "view-in-github",
        "colab_type": "text"
      },
      "source": [
        "<a href=\"https://colab.research.google.com/github/wangt47/Colab-Excel-Files/blob/main/Project_2.ipynb\" target=\"_parent\"><img src=\"https://colab.research.google.com/assets/colab-badge.svg\" alt=\"Open In Colab\"/></a>"
      ]
    },
    {
      "cell_type": "code",
      "metadata": {
        "id": "rouqpu2CffAZ",
        "outputId": "d42a0eea-a42c-4cae-dfc2-5f481e10faaa",
        "colab": {
          "base_uri": "https://localhost:8080/",
          "height": 128
        }
      },
      "source": [
        "# create github link or mount here\n",
        "<a href=\"https://github.com/wangt47/Colab-Excel-Files\">\n",
        "  <img src=\"https://github.com/wangt47/Colab-Excel-Files/movie.csv\" alt=\"Open Movie.csv In Colab\"/>\n",
        "  <img src=\"https://github.com/wangt47/Colab-Excel-Files/rating.csv\" alt=\"Open Rating.csv In Colab\"/>\n",
        "</a>\n",
        "\n",
        "from google.colab import drive\n",
        "from google.colab import files"
      ],
      "execution_count": null,
      "outputs": [
        {
          "output_type": "error",
          "ename": "SyntaxError",
          "evalue": "ignored",
          "traceback": [
            "\u001b[0;36m  File \u001b[0;32m\"<ipython-input-25-099c1bca7af7>\"\u001b[0;36m, line \u001b[0;32m1\u001b[0m\n\u001b[0;31m    <a href=\"https://github.com/wangt47/Colab-Excel-Files\">\u001b[0m\n\u001b[0m    ^\u001b[0m\n\u001b[0;31mSyntaxError\u001b[0m\u001b[0;31m:\u001b[0m invalid syntax\n"
          ]
        }
      ]
    },
    {
      "cell_type": "code",
      "metadata": {
        "id": "1_6WXOiqoafv",
        "outputId": "27065616-e47d-4042-b8b9-59b33b905f14",
        "colab": {
          "base_uri": "https://localhost:8080/"
        }
      },
      "source": [
        "from google.colab import drive\n",
        "from google.colab import files\n",
        "drive.mount('/content/drive', force_remount=True)"
      ],
      "execution_count": null,
      "outputs": [
        {
          "output_type": "stream",
          "text": [
            "Mounted at /content/drive\n"
          ],
          "name": "stdout"
        }
      ]
    },
    {
      "cell_type": "code",
      "metadata": {
        "id": "7yPU9nxopJtm"
      },
      "source": [
        "import pandas as pd\n",
        "import numpy as np\n",
        "import matplotlib.pyplot as plt\n",
        "from sklearn.cluster import KMeans\n",
        "from sklearn.metrics import mean_squared_error\n",
        "from scipy.spatial.distance import cdist"
      ],
      "execution_count": null,
      "outputs": []
    },
    {
      "cell_type": "markdown",
      "metadata": {
        "id": "S7Izg5gIsi2c"
      },
      "source": [
        "Import the data sets using pandas."
      ]
    },
    {
      "cell_type": "code",
      "metadata": {
        "id": "WqZq92V9k9qi",
        "outputId": "4e01da57-cbcd-471a-9cce-da391766c1f8",
        "colab": {
          "base_uri": "https://localhost:8080/",
          "height": 402
        }
      },
      "source": [
        "movies = pd.read_csv(\"/content/drive/My Drive/excel0/movie.csv\")\n",
        "ratings = pd.read_csv(\"/content/drive/My Drive/excel0/rating.csv\")"
      ],
      "execution_count": null,
      "outputs": [
        {
          "output_type": "execute_result",
          "data": {
            "text/html": [
              "<div>\n",
              "<style scoped>\n",
              "    .dataframe tbody tr th:only-of-type {\n",
              "        vertical-align: middle;\n",
              "    }\n",
              "\n",
              "    .dataframe tbody tr th {\n",
              "        vertical-align: top;\n",
              "    }\n",
              "\n",
              "    .dataframe thead th {\n",
              "        text-align: right;\n",
              "    }\n",
              "</style>\n",
              "<table border=\"1\" class=\"dataframe\">\n",
              "  <thead>\n",
              "    <tr style=\"text-align: right;\">\n",
              "      <th></th>\n",
              "      <th>movieId</th>\n",
              "      <th>title</th>\n",
              "      <th>genres</th>\n",
              "    </tr>\n",
              "  </thead>\n",
              "  <tbody>\n",
              "    <tr>\n",
              "      <th>0</th>\n",
              "      <td>1</td>\n",
              "      <td>Toy Story (1995)</td>\n",
              "      <td>Adventure|Animation|Children|Comedy|Fantasy</td>\n",
              "    </tr>\n",
              "    <tr>\n",
              "      <th>1</th>\n",
              "      <td>2</td>\n",
              "      <td>Jumanji (1995)</td>\n",
              "      <td>Adventure|Children|Fantasy</td>\n",
              "    </tr>\n",
              "    <tr>\n",
              "      <th>2</th>\n",
              "      <td>3</td>\n",
              "      <td>Grumpier Old Men (1995)</td>\n",
              "      <td>Comedy|Romance</td>\n",
              "    </tr>\n",
              "    <tr>\n",
              "      <th>3</th>\n",
              "      <td>4</td>\n",
              "      <td>Waiting to Exhale (1995)</td>\n",
              "      <td>Comedy|Drama|Romance</td>\n",
              "    </tr>\n",
              "    <tr>\n",
              "      <th>4</th>\n",
              "      <td>5</td>\n",
              "      <td>Father of the Bride Part II (1995)</td>\n",
              "      <td>Comedy</td>\n",
              "    </tr>\n",
              "    <tr>\n",
              "      <th>...</th>\n",
              "      <td>...</td>\n",
              "      <td>...</td>\n",
              "      <td>...</td>\n",
              "    </tr>\n",
              "    <tr>\n",
              "      <th>27273</th>\n",
              "      <td>131254</td>\n",
              "      <td>Kein Bund für's Leben (2007)</td>\n",
              "      <td>Comedy</td>\n",
              "    </tr>\n",
              "    <tr>\n",
              "      <th>27274</th>\n",
              "      <td>131256</td>\n",
              "      <td>Feuer, Eis &amp; Dosenbier (2002)</td>\n",
              "      <td>Comedy</td>\n",
              "    </tr>\n",
              "    <tr>\n",
              "      <th>27275</th>\n",
              "      <td>131258</td>\n",
              "      <td>The Pirates (2014)</td>\n",
              "      <td>Adventure</td>\n",
              "    </tr>\n",
              "    <tr>\n",
              "      <th>27276</th>\n",
              "      <td>131260</td>\n",
              "      <td>Rentun Ruusu (2001)</td>\n",
              "      <td>(no genres listed)</td>\n",
              "    </tr>\n",
              "    <tr>\n",
              "      <th>27277</th>\n",
              "      <td>131262</td>\n",
              "      <td>Innocence (2014)</td>\n",
              "      <td>Adventure|Fantasy|Horror</td>\n",
              "    </tr>\n",
              "  </tbody>\n",
              "</table>\n",
              "<p>27278 rows × 3 columns</p>\n",
              "</div>"
            ],
            "text/plain": [
              "       movieId  ...                                       genres\n",
              "0            1  ...  Adventure|Animation|Children|Comedy|Fantasy\n",
              "1            2  ...                   Adventure|Children|Fantasy\n",
              "2            3  ...                               Comedy|Romance\n",
              "3            4  ...                         Comedy|Drama|Romance\n",
              "4            5  ...                                       Comedy\n",
              "...        ...  ...                                          ...\n",
              "27273   131254  ...                                       Comedy\n",
              "27274   131256  ...                                       Comedy\n",
              "27275   131258  ...                                    Adventure\n",
              "27276   131260  ...                           (no genres listed)\n",
              "27277   131262  ...                     Adventure|Fantasy|Horror\n",
              "\n",
              "[27278 rows x 3 columns]"
            ]
          },
          "metadata": {
            "tags": []
          },
          "execution_count": 28
        }
      ]
    },
    {
      "cell_type": "code",
      "metadata": {
        "id": "LT4QG15yslhm"
      },
      "source": [
        "movies = pd.read_csv('drive/My Drive/movie.csv')\n",
        "ratings = pd.read_csv('drive/My Drive/rating.csv')"
      ],
      "execution_count": null,
      "outputs": []
    },
    {
      "cell_type": "markdown",
      "metadata": {
        "id": "hqJtrctsu5de"
      },
      "source": [
        "Explore the datasets using .head() and len() to find what they look like and their length"
      ]
    },
    {
      "cell_type": "code",
      "metadata": {
        "id": "k06swapHvA8D",
        "outputId": "f1a607da-d467-45de-d380-23e5acbb1422",
        "colab": {
          "base_uri": "https://localhost:8080/",
          "height": 195
        }
      },
      "source": [
        "movies.head()"
      ],
      "execution_count": null,
      "outputs": [
        {
          "output_type": "execute_result",
          "data": {
            "text/html": [
              "<div>\n",
              "<style scoped>\n",
              "    .dataframe tbody tr th:only-of-type {\n",
              "        vertical-align: middle;\n",
              "    }\n",
              "\n",
              "    .dataframe tbody tr th {\n",
              "        vertical-align: top;\n",
              "    }\n",
              "\n",
              "    .dataframe thead th {\n",
              "        text-align: right;\n",
              "    }\n",
              "</style>\n",
              "<table border=\"1\" class=\"dataframe\">\n",
              "  <thead>\n",
              "    <tr style=\"text-align: right;\">\n",
              "      <th></th>\n",
              "      <th>movieId</th>\n",
              "      <th>title</th>\n",
              "      <th>genres</th>\n",
              "    </tr>\n",
              "  </thead>\n",
              "  <tbody>\n",
              "    <tr>\n",
              "      <th>0</th>\n",
              "      <td>1</td>\n",
              "      <td>Toy Story (1995)</td>\n",
              "      <td>Adventure|Animation|Children|Comedy|Fantasy</td>\n",
              "    </tr>\n",
              "    <tr>\n",
              "      <th>1</th>\n",
              "      <td>2</td>\n",
              "      <td>Jumanji (1995)</td>\n",
              "      <td>Adventure|Children|Fantasy</td>\n",
              "    </tr>\n",
              "    <tr>\n",
              "      <th>2</th>\n",
              "      <td>3</td>\n",
              "      <td>Grumpier Old Men (1995)</td>\n",
              "      <td>Comedy|Romance</td>\n",
              "    </tr>\n",
              "    <tr>\n",
              "      <th>3</th>\n",
              "      <td>4</td>\n",
              "      <td>Waiting to Exhale (1995)</td>\n",
              "      <td>Comedy|Drama|Romance</td>\n",
              "    </tr>\n",
              "    <tr>\n",
              "      <th>4</th>\n",
              "      <td>5</td>\n",
              "      <td>Father of the Bride Part II (1995)</td>\n",
              "      <td>Comedy</td>\n",
              "    </tr>\n",
              "  </tbody>\n",
              "</table>\n",
              "</div>"
            ],
            "text/plain": [
              "   movieId  ...                                       genres\n",
              "0        1  ...  Adventure|Animation|Children|Comedy|Fantasy\n",
              "1        2  ...                   Adventure|Children|Fantasy\n",
              "2        3  ...                               Comedy|Romance\n",
              "3        4  ...                         Comedy|Drama|Romance\n",
              "4        5  ...                                       Comedy\n",
              "\n",
              "[5 rows x 3 columns]"
            ]
          },
          "metadata": {
            "tags": []
          },
          "execution_count": 4
        }
      ]
    },
    {
      "cell_type": "code",
      "metadata": {
        "id": "-ZKahAJDvHB7",
        "outputId": "19fbb092-d8b1-4fc7-de2b-6ff13dbe06a4",
        "colab": {
          "base_uri": "https://localhost:8080/",
          "height": 195
        }
      },
      "source": [
        "ratings.head()"
      ],
      "execution_count": null,
      "outputs": [
        {
          "output_type": "execute_result",
          "data": {
            "text/html": [
              "<div>\n",
              "<style scoped>\n",
              "    .dataframe tbody tr th:only-of-type {\n",
              "        vertical-align: middle;\n",
              "    }\n",
              "\n",
              "    .dataframe tbody tr th {\n",
              "        vertical-align: top;\n",
              "    }\n",
              "\n",
              "    .dataframe thead th {\n",
              "        text-align: right;\n",
              "    }\n",
              "</style>\n",
              "<table border=\"1\" class=\"dataframe\">\n",
              "  <thead>\n",
              "    <tr style=\"text-align: right;\">\n",
              "      <th></th>\n",
              "      <th>userId</th>\n",
              "      <th>movieId</th>\n",
              "      <th>rating</th>\n",
              "      <th>timestamp</th>\n",
              "    </tr>\n",
              "  </thead>\n",
              "  <tbody>\n",
              "    <tr>\n",
              "      <th>0</th>\n",
              "      <td>1</td>\n",
              "      <td>2</td>\n",
              "      <td>3.5</td>\n",
              "      <td>2005-04-02 23:53:47</td>\n",
              "    </tr>\n",
              "    <tr>\n",
              "      <th>1</th>\n",
              "      <td>1</td>\n",
              "      <td>29</td>\n",
              "      <td>3.5</td>\n",
              "      <td>2005-04-02 23:31:16</td>\n",
              "    </tr>\n",
              "    <tr>\n",
              "      <th>2</th>\n",
              "      <td>1</td>\n",
              "      <td>32</td>\n",
              "      <td>3.5</td>\n",
              "      <td>2005-04-02 23:33:39</td>\n",
              "    </tr>\n",
              "    <tr>\n",
              "      <th>3</th>\n",
              "      <td>1</td>\n",
              "      <td>47</td>\n",
              "      <td>3.5</td>\n",
              "      <td>2005-04-02 23:32:07</td>\n",
              "    </tr>\n",
              "    <tr>\n",
              "      <th>4</th>\n",
              "      <td>1</td>\n",
              "      <td>50</td>\n",
              "      <td>3.5</td>\n",
              "      <td>2005-04-02 23:29:40</td>\n",
              "    </tr>\n",
              "  </tbody>\n",
              "</table>\n",
              "</div>"
            ],
            "text/plain": [
              "   userId  movieId  rating            timestamp\n",
              "0       1        2     3.5  2005-04-02 23:53:47\n",
              "1       1       29     3.5  2005-04-02 23:31:16\n",
              "2       1       32     3.5  2005-04-02 23:33:39\n",
              "3       1       47     3.5  2005-04-02 23:32:07\n",
              "4       1       50     3.5  2005-04-02 23:29:40"
            ]
          },
          "metadata": {
            "tags": []
          },
          "execution_count": 5
        }
      ]
    },
    {
      "cell_type": "code",
      "metadata": {
        "id": "S2Mu5mnXvLL3",
        "outputId": "a1d75e53-2b71-4630-c5e0-7108ce98bfca",
        "colab": {
          "base_uri": "https://localhost:8080/"
        }
      },
      "source": [
        "len(movies)"
      ],
      "execution_count": null,
      "outputs": [
        {
          "output_type": "execute_result",
          "data": {
            "text/plain": [
              "27278"
            ]
          },
          "metadata": {
            "tags": []
          },
          "execution_count": 6
        }
      ]
    },
    {
      "cell_type": "code",
      "metadata": {
        "id": "IhOGhzEOvP9P",
        "outputId": "669c13ee-5198-4568-a054-efe019dc7354",
        "colab": {
          "base_uri": "https://localhost:8080/"
        }
      },
      "source": [
        "len(ratings)"
      ],
      "execution_count": null,
      "outputs": [
        {
          "output_type": "execute_result",
          "data": {
            "text/plain": [
              "20000263"
            ]
          },
          "metadata": {
            "tags": []
          },
          "execution_count": 7
        }
      ]
    },
    {
      "cell_type": "markdown",
      "metadata": {
        "id": "ckAP9GV-vWUp"
      },
      "source": [
        "Find out what all the genres are."
      ]
    },
    {
      "cell_type": "code",
      "metadata": {
        "id": "HQgj11x1vZjA"
      },
      "source": [
        "genres = pd.DataFrame(movies.genres.str.split('|').tolist()).stack().unique()"
      ],
      "execution_count": null,
      "outputs": []
    },
    {
      "cell_type": "code",
      "metadata": {
        "id": "0qg6vRN7vtlV",
        "outputId": "c2d56e83-d82e-44ff-9e1b-364e312443ba",
        "colab": {
          "base_uri": "https://localhost:8080/",
          "height": 639
        }
      },
      "source": [
        "genres = pd.DataFrame(genres, columns = ['genre'])\n",
        "genres"
      ],
      "execution_count": null,
      "outputs": [
        {
          "output_type": "execute_result",
          "data": {
            "text/html": [
              "<div>\n",
              "<style scoped>\n",
              "    .dataframe tbody tr th:only-of-type {\n",
              "        vertical-align: middle;\n",
              "    }\n",
              "\n",
              "    .dataframe tbody tr th {\n",
              "        vertical-align: top;\n",
              "    }\n",
              "\n",
              "    .dataframe thead th {\n",
              "        text-align: right;\n",
              "    }\n",
              "</style>\n",
              "<table border=\"1\" class=\"dataframe\">\n",
              "  <thead>\n",
              "    <tr style=\"text-align: right;\">\n",
              "      <th></th>\n",
              "      <th>genre</th>\n",
              "    </tr>\n",
              "  </thead>\n",
              "  <tbody>\n",
              "    <tr>\n",
              "      <th>0</th>\n",
              "      <td>Adventure</td>\n",
              "    </tr>\n",
              "    <tr>\n",
              "      <th>1</th>\n",
              "      <td>Animation</td>\n",
              "    </tr>\n",
              "    <tr>\n",
              "      <th>2</th>\n",
              "      <td>Children</td>\n",
              "    </tr>\n",
              "    <tr>\n",
              "      <th>3</th>\n",
              "      <td>Comedy</td>\n",
              "    </tr>\n",
              "    <tr>\n",
              "      <th>4</th>\n",
              "      <td>Fantasy</td>\n",
              "    </tr>\n",
              "    <tr>\n",
              "      <th>5</th>\n",
              "      <td>Romance</td>\n",
              "    </tr>\n",
              "    <tr>\n",
              "      <th>6</th>\n",
              "      <td>Drama</td>\n",
              "    </tr>\n",
              "    <tr>\n",
              "      <th>7</th>\n",
              "      <td>Action</td>\n",
              "    </tr>\n",
              "    <tr>\n",
              "      <th>8</th>\n",
              "      <td>Crime</td>\n",
              "    </tr>\n",
              "    <tr>\n",
              "      <th>9</th>\n",
              "      <td>Thriller</td>\n",
              "    </tr>\n",
              "    <tr>\n",
              "      <th>10</th>\n",
              "      <td>Horror</td>\n",
              "    </tr>\n",
              "    <tr>\n",
              "      <th>11</th>\n",
              "      <td>Mystery</td>\n",
              "    </tr>\n",
              "    <tr>\n",
              "      <th>12</th>\n",
              "      <td>Sci-Fi</td>\n",
              "    </tr>\n",
              "    <tr>\n",
              "      <th>13</th>\n",
              "      <td>IMAX</td>\n",
              "    </tr>\n",
              "    <tr>\n",
              "      <th>14</th>\n",
              "      <td>Documentary</td>\n",
              "    </tr>\n",
              "    <tr>\n",
              "      <th>15</th>\n",
              "      <td>War</td>\n",
              "    </tr>\n",
              "    <tr>\n",
              "      <th>16</th>\n",
              "      <td>Musical</td>\n",
              "    </tr>\n",
              "    <tr>\n",
              "      <th>17</th>\n",
              "      <td>Western</td>\n",
              "    </tr>\n",
              "    <tr>\n",
              "      <th>18</th>\n",
              "      <td>Film-Noir</td>\n",
              "    </tr>\n",
              "    <tr>\n",
              "      <th>19</th>\n",
              "      <td>(no genres listed)</td>\n",
              "    </tr>\n",
              "  </tbody>\n",
              "</table>\n",
              "</div>"
            ],
            "text/plain": [
              "                 genre\n",
              "0            Adventure\n",
              "1            Animation\n",
              "2             Children\n",
              "3               Comedy\n",
              "4              Fantasy\n",
              "5              Romance\n",
              "6                Drama\n",
              "7               Action\n",
              "8                Crime\n",
              "9             Thriller\n",
              "10              Horror\n",
              "11             Mystery\n",
              "12              Sci-Fi\n",
              "13                IMAX\n",
              "14         Documentary\n",
              "15                 War\n",
              "16             Musical\n",
              "17             Western\n",
              "18           Film-Noir\n",
              "19  (no genres listed)"
            ]
          },
          "metadata": {
            "tags": []
          },
          "execution_count": 9
        }
      ]
    },
    {
      "cell_type": "code",
      "metadata": {
        "id": "D86fgmB3xXM-",
        "outputId": "7bdb790d-5b5b-4f36-f310-5fde4f6eaf0e",
        "colab": {
          "base_uri": "https://localhost:8080/",
          "height": 195
        }
      },
      "source": [
        "#makes it easier to find the genre name in the dataframe\n",
        "ratings_genres = ratings.merge(movies, on='movieId')\n",
        "ratings_genres.head()"
      ],
      "execution_count": null,
      "outputs": [
        {
          "output_type": "execute_result",
          "data": {
            "text/html": [
              "<div>\n",
              "<style scoped>\n",
              "    .dataframe tbody tr th:only-of-type {\n",
              "        vertical-align: middle;\n",
              "    }\n",
              "\n",
              "    .dataframe tbody tr th {\n",
              "        vertical-align: top;\n",
              "    }\n",
              "\n",
              "    .dataframe thead th {\n",
              "        text-align: right;\n",
              "    }\n",
              "</style>\n",
              "<table border=\"1\" class=\"dataframe\">\n",
              "  <thead>\n",
              "    <tr style=\"text-align: right;\">\n",
              "      <th></th>\n",
              "      <th>userId</th>\n",
              "      <th>movieId</th>\n",
              "      <th>rating</th>\n",
              "      <th>timestamp</th>\n",
              "      <th>title</th>\n",
              "      <th>genres</th>\n",
              "    </tr>\n",
              "  </thead>\n",
              "  <tbody>\n",
              "    <tr>\n",
              "      <th>0</th>\n",
              "      <td>1</td>\n",
              "      <td>2</td>\n",
              "      <td>3.5</td>\n",
              "      <td>2005-04-02 23:53:47</td>\n",
              "      <td>Jumanji (1995)</td>\n",
              "      <td>Adventure|Children|Fantasy</td>\n",
              "    </tr>\n",
              "    <tr>\n",
              "      <th>1</th>\n",
              "      <td>5</td>\n",
              "      <td>2</td>\n",
              "      <td>3.0</td>\n",
              "      <td>1996-12-25 15:26:09</td>\n",
              "      <td>Jumanji (1995)</td>\n",
              "      <td>Adventure|Children|Fantasy</td>\n",
              "    </tr>\n",
              "    <tr>\n",
              "      <th>2</th>\n",
              "      <td>13</td>\n",
              "      <td>2</td>\n",
              "      <td>3.0</td>\n",
              "      <td>1996-11-27 08:19:02</td>\n",
              "      <td>Jumanji (1995)</td>\n",
              "      <td>Adventure|Children|Fantasy</td>\n",
              "    </tr>\n",
              "    <tr>\n",
              "      <th>3</th>\n",
              "      <td>29</td>\n",
              "      <td>2</td>\n",
              "      <td>3.0</td>\n",
              "      <td>1996-06-23 20:36:14</td>\n",
              "      <td>Jumanji (1995)</td>\n",
              "      <td>Adventure|Children|Fantasy</td>\n",
              "    </tr>\n",
              "    <tr>\n",
              "      <th>4</th>\n",
              "      <td>34</td>\n",
              "      <td>2</td>\n",
              "      <td>3.0</td>\n",
              "      <td>1996-10-28 13:29:44</td>\n",
              "      <td>Jumanji (1995)</td>\n",
              "      <td>Adventure|Children|Fantasy</td>\n",
              "    </tr>\n",
              "  </tbody>\n",
              "</table>\n",
              "</div>"
            ],
            "text/plain": [
              "   userId  movieId  ...           title                      genres\n",
              "0       1        2  ...  Jumanji (1995)  Adventure|Children|Fantasy\n",
              "1       5        2  ...  Jumanji (1995)  Adventure|Children|Fantasy\n",
              "2      13        2  ...  Jumanji (1995)  Adventure|Children|Fantasy\n",
              "3      29        2  ...  Jumanji (1995)  Adventure|Children|Fantasy\n",
              "4      34        2  ...  Jumanji (1995)  Adventure|Children|Fantasy\n",
              "\n",
              "[5 rows x 6 columns]"
            ]
          },
          "metadata": {
            "tags": []
          },
          "execution_count": 10
        }
      ]
    },
    {
      "cell_type": "markdown",
      "metadata": {
        "id": "pfgV4Lk60mRD"
      },
      "source": [
        "Idea is as follows: Create a new dataframe that will be our genre ratings per year\n",
        "\n",
        "Make a list of movies for genre. Then take the list of all ratings, and keep only the ones that have a movie that is in the list of movies in that genre. With this list of ratings in just one genre, average out all ratings per each year.\n",
        "\n",
        "Concatenate (combine) all these user ratings per genre into the genre ratings data frame."
      ]
    },
    {
      "cell_type": "code",
      "metadata": {
        "id": "imk9vcnd1B5-"
      },
      "source": [
        "userIds = ratings['userId'].unique()"
      ],
      "execution_count": null,
      "outputs": []
    },
    {
      "cell_type": "code",
      "metadata": {
        "id": "ZIgYZtqR1GYg",
        "outputId": "d52a0feb-2284-49e6-ca75-751629315408",
        "colab": {
          "base_uri": "https://localhost:8080/",
          "height": 402
        }
      },
      "source": [
        "comedy_movies = movies[movies['genres'].str.contains('Comedy')]\n",
        "comedy_movies"
      ],
      "execution_count": null,
      "outputs": [
        {
          "output_type": "execute_result",
          "data": {
            "text/html": [
              "<div>\n",
              "<style scoped>\n",
              "    .dataframe tbody tr th:only-of-type {\n",
              "        vertical-align: middle;\n",
              "    }\n",
              "\n",
              "    .dataframe tbody tr th {\n",
              "        vertical-align: top;\n",
              "    }\n",
              "\n",
              "    .dataframe thead th {\n",
              "        text-align: right;\n",
              "    }\n",
              "</style>\n",
              "<table border=\"1\" class=\"dataframe\">\n",
              "  <thead>\n",
              "    <tr style=\"text-align: right;\">\n",
              "      <th></th>\n",
              "      <th>movieId</th>\n",
              "      <th>title</th>\n",
              "      <th>genres</th>\n",
              "    </tr>\n",
              "  </thead>\n",
              "  <tbody>\n",
              "    <tr>\n",
              "      <th>0</th>\n",
              "      <td>1</td>\n",
              "      <td>Toy Story (1995)</td>\n",
              "      <td>Adventure|Animation|Children|Comedy|Fantasy</td>\n",
              "    </tr>\n",
              "    <tr>\n",
              "      <th>2</th>\n",
              "      <td>3</td>\n",
              "      <td>Grumpier Old Men (1995)</td>\n",
              "      <td>Comedy|Romance</td>\n",
              "    </tr>\n",
              "    <tr>\n",
              "      <th>3</th>\n",
              "      <td>4</td>\n",
              "      <td>Waiting to Exhale (1995)</td>\n",
              "      <td>Comedy|Drama|Romance</td>\n",
              "    </tr>\n",
              "    <tr>\n",
              "      <th>4</th>\n",
              "      <td>5</td>\n",
              "      <td>Father of the Bride Part II (1995)</td>\n",
              "      <td>Comedy</td>\n",
              "    </tr>\n",
              "    <tr>\n",
              "      <th>6</th>\n",
              "      <td>7</td>\n",
              "      <td>Sabrina (1995)</td>\n",
              "      <td>Comedy|Romance</td>\n",
              "    </tr>\n",
              "    <tr>\n",
              "      <th>...</th>\n",
              "      <td>...</td>\n",
              "      <td>...</td>\n",
              "      <td>...</td>\n",
              "    </tr>\n",
              "    <tr>\n",
              "      <th>27270</th>\n",
              "      <td>131248</td>\n",
              "      <td>Brother Bear 2 (2006)</td>\n",
              "      <td>Adventure|Animation|Children|Comedy|Fantasy</td>\n",
              "    </tr>\n",
              "    <tr>\n",
              "      <th>27271</th>\n",
              "      <td>131250</td>\n",
              "      <td>No More School (2000)</td>\n",
              "      <td>Comedy</td>\n",
              "    </tr>\n",
              "    <tr>\n",
              "      <th>27272</th>\n",
              "      <td>131252</td>\n",
              "      <td>Forklift Driver Klaus: The First Day on the Jo...</td>\n",
              "      <td>Comedy|Horror</td>\n",
              "    </tr>\n",
              "    <tr>\n",
              "      <th>27273</th>\n",
              "      <td>131254</td>\n",
              "      <td>Kein Bund für's Leben (2007)</td>\n",
              "      <td>Comedy</td>\n",
              "    </tr>\n",
              "    <tr>\n",
              "      <th>27274</th>\n",
              "      <td>131256</td>\n",
              "      <td>Feuer, Eis &amp; Dosenbier (2002)</td>\n",
              "      <td>Comedy</td>\n",
              "    </tr>\n",
              "  </tbody>\n",
              "</table>\n",
              "<p>8374 rows × 3 columns</p>\n",
              "</div>"
            ],
            "text/plain": [
              "       movieId  ...                                       genres\n",
              "0            1  ...  Adventure|Animation|Children|Comedy|Fantasy\n",
              "2            3  ...                               Comedy|Romance\n",
              "3            4  ...                         Comedy|Drama|Romance\n",
              "4            5  ...                                       Comedy\n",
              "6            7  ...                               Comedy|Romance\n",
              "...        ...  ...                                          ...\n",
              "27270   131248  ...  Adventure|Animation|Children|Comedy|Fantasy\n",
              "27271   131250  ...                                       Comedy\n",
              "27272   131252  ...                                Comedy|Horror\n",
              "27273   131254  ...                                       Comedy\n",
              "27274   131256  ...                                       Comedy\n",
              "\n",
              "[8374 rows x 3 columns]"
            ]
          },
          "metadata": {
            "tags": []
          },
          "execution_count": 12
        }
      ]
    },
    {
      "cell_type": "code",
      "metadata": {
        "id": "uA_1or1e40CK",
        "outputId": "dd5a2779-ca36-47dc-8bd3-4d54b8c7e871",
        "colab": {
          "base_uri": "https://localhost:8080/",
          "height": 402
        }
      },
      "source": [
        "comedy_ratings = ratings[ratings['movieId'].isin(comedy_movies['movieId'])]\n",
        "comedy_ratings"
      ],
      "execution_count": null,
      "outputs": [
        {
          "output_type": "execute_result",
          "data": {
            "text/html": [
              "<div>\n",
              "<style scoped>\n",
              "    .dataframe tbody tr th:only-of-type {\n",
              "        vertical-align: middle;\n",
              "    }\n",
              "\n",
              "    .dataframe tbody tr th {\n",
              "        vertical-align: top;\n",
              "    }\n",
              "\n",
              "    .dataframe thead th {\n",
              "        text-align: right;\n",
              "    }\n",
              "</style>\n",
              "<table border=\"1\" class=\"dataframe\">\n",
              "  <thead>\n",
              "    <tr style=\"text-align: right;\">\n",
              "      <th></th>\n",
              "      <th>userId</th>\n",
              "      <th>movieId</th>\n",
              "      <th>rating</th>\n",
              "      <th>timestamp</th>\n",
              "    </tr>\n",
              "  </thead>\n",
              "  <tbody>\n",
              "    <tr>\n",
              "      <th>5</th>\n",
              "      <td>1</td>\n",
              "      <td>112</td>\n",
              "      <td>3.5</td>\n",
              "      <td>2004-09-10 03:09:00</td>\n",
              "    </tr>\n",
              "    <tr>\n",
              "      <th>7</th>\n",
              "      <td>1</td>\n",
              "      <td>223</td>\n",
              "      <td>4.0</td>\n",
              "      <td>2005-04-02 23:46:13</td>\n",
              "    </tr>\n",
              "    <tr>\n",
              "      <th>11</th>\n",
              "      <td>1</td>\n",
              "      <td>296</td>\n",
              "      <td>4.0</td>\n",
              "      <td>2005-04-02 23:32:47</td>\n",
              "    </tr>\n",
              "    <tr>\n",
              "      <th>14</th>\n",
              "      <td>1</td>\n",
              "      <td>367</td>\n",
              "      <td>3.5</td>\n",
              "      <td>2005-04-02 23:53:00</td>\n",
              "    </tr>\n",
              "    <tr>\n",
              "      <th>23</th>\n",
              "      <td>1</td>\n",
              "      <td>1079</td>\n",
              "      <td>4.0</td>\n",
              "      <td>2004-09-10 03:07:45</td>\n",
              "    </tr>\n",
              "    <tr>\n",
              "      <th>...</th>\n",
              "      <td>...</td>\n",
              "      <td>...</td>\n",
              "      <td>...</td>\n",
              "      <td>...</td>\n",
              "    </tr>\n",
              "    <tr>\n",
              "      <th>20000250</th>\n",
              "      <td>138493</td>\n",
              "      <td>59725</td>\n",
              "      <td>3.0</td>\n",
              "      <td>2009-10-17 22:21:18</td>\n",
              "    </tr>\n",
              "    <tr>\n",
              "      <th>20000251</th>\n",
              "      <td>138493</td>\n",
              "      <td>59784</td>\n",
              "      <td>5.0</td>\n",
              "      <td>2009-10-17 22:01:41</td>\n",
              "    </tr>\n",
              "    <tr>\n",
              "      <th>20000253</th>\n",
              "      <td>138493</td>\n",
              "      <td>60816</td>\n",
              "      <td>4.5</td>\n",
              "      <td>2009-12-03 18:32:43</td>\n",
              "    </tr>\n",
              "    <tr>\n",
              "      <th>20000256</th>\n",
              "      <td>138493</td>\n",
              "      <td>66762</td>\n",
              "      <td>4.5</td>\n",
              "      <td>2009-10-17 18:50:08</td>\n",
              "    </tr>\n",
              "    <tr>\n",
              "      <th>20000260</th>\n",
              "      <td>138493</td>\n",
              "      <td>69644</td>\n",
              "      <td>3.0</td>\n",
              "      <td>2009-12-07 18:10:57</td>\n",
              "    </tr>\n",
              "  </tbody>\n",
              "</table>\n",
              "<p>7502234 rows × 4 columns</p>\n",
              "</div>"
            ],
            "text/plain": [
              "          userId  movieId  rating            timestamp\n",
              "5              1      112     3.5  2004-09-10 03:09:00\n",
              "7              1      223     4.0  2005-04-02 23:46:13\n",
              "11             1      296     4.0  2005-04-02 23:32:47\n",
              "14             1      367     3.5  2005-04-02 23:53:00\n",
              "23             1     1079     4.0  2004-09-10 03:07:45\n",
              "...          ...      ...     ...                  ...\n",
              "20000250  138493    59725     3.0  2009-10-17 22:21:18\n",
              "20000251  138493    59784     5.0  2009-10-17 22:01:41\n",
              "20000253  138493    60816     4.5  2009-12-03 18:32:43\n",
              "20000256  138493    66762     4.5  2009-10-17 18:50:08\n",
              "20000260  138493    69644     3.0  2009-12-07 18:10:57\n",
              "\n",
              "[7502234 rows x 4 columns]"
            ]
          },
          "metadata": {
            "tags": []
          },
          "execution_count": 13
        }
      ]
    },
    {
      "cell_type": "code",
      "metadata": {
        "id": "RI0YKVOL3lLu"
      },
      "source": [
        "user_comedy_ratings = comedy_ratings.loc[:, ['userId', 'rating']].groupby(['userId'])['rating'].mean()"
      ],
      "execution_count": null,
      "outputs": []
    },
    {
      "cell_type": "code",
      "metadata": {
        "id": "2BGeuMyK37i_"
      },
      "source": [
        "#Do the same thing for thriller and fantasy now\n",
        "#I'm going to do every single genre for the sake of completeness\n",
        "\n",
        "adventure_movies = movies[movies['genres'].str.contains('Adventure')]\n",
        "adventure_ratings = ratings[ratings['movieId'].isin(adventure_movies['movieId'])]\n",
        "user_adventure_ratings = adventure_ratings.loc[:, ['userId', 'rating']].groupby(['userId'])['rating'].mean()\n",
        "\n",
        "animation_movies = movies[movies['genres'].str.contains('Animation')]\n",
        "animation_ratings = ratings[ratings['movieId'].isin(animation_movies['movieId'])]\n",
        "user_animation_ratings = animation_ratings.loc[:, ['userId', 'rating']].groupby(['userId'])['rating'].mean()\n",
        "\n",
        "children_movies = movies[movies['genres'].str.contains('Children')]\n",
        "children_ratings = ratings[ratings['movieId'].isin(children_movies['movieId'])]\n",
        "user_children_ratings = children_ratings.loc[:, ['userId', 'rating']].groupby(['userId'])['rating'].mean()\n",
        "\n",
        "fantasy_movies = movies[movies['genres'].str.contains('Fantasy')]\n",
        "fantasy_ratings = ratings[ratings['movieId'].isin(fantasy_movies['movieId'])]\n",
        "user_fantasy_ratings = fantasy_ratings.loc[:, ['userId', 'rating']].groupby(['userId'])['rating'].mean()\n",
        "\n",
        "romance_movies = movies[movies['genres'].str.contains('Romance')]\n",
        "romance_ratings = ratings[ratings['movieId'].isin(romance_movies['movieId'])]\n",
        "user_romance_ratings = romance_ratings.loc[:, ['userId', 'rating']].groupby(['userId'])['rating'].mean()\n",
        "\n",
        "drama_movies = movies[movies['genres'].str.contains('Drama')]\n",
        "drama_ratings = ratings[ratings['movieId'].isin(drama_movies['movieId'])]\n",
        "user_drama_ratings = drama_ratings.loc[:, ['userId', 'rating']].groupby(['userId'])['rating'].mean()\n",
        "\n",
        "action_movies = movies[movies['genres'].str.contains('Action')]\n",
        "action_ratings = ratings[ratings['movieId'].isin(action_movies['movieId'])]\n",
        "user_action_ratings = action_ratings.loc[:, ['userId', 'rating']].groupby(['userId'])['rating'].mean()\n",
        "\n",
        "crime_movies = movies[movies['genres'].str.contains('Crime')]\n",
        "crime_ratings = ratings[ratings['movieId'].isin(crime_movies['movieId'])]\n",
        "user_crime_ratings = crime_ratings.loc[:, ['userId', 'rating']].groupby(['userId'])['rating'].mean()\n",
        "\n",
        "thriller_movies = movies[movies['genres'].str.contains('Thriller')]\n",
        "thriller_ratings = ratings[ratings['movieId'].isin(thriller_movies['movieId'])]\n",
        "user_thriller_ratings = thriller_ratings.loc[:, ['userId', 'rating']].groupby(['userId'])['rating'].mean()\n",
        "\n",
        "horror_movies = movies[movies['genres'].str.contains('Horror')]\n",
        "horror_ratings = ratings[ratings['movieId'].isin(horror_movies['movieId'])]\n",
        "user_horror_ratings = horror_ratings.loc[:, ['userId', 'rating']].groupby(['userId'])['rating'].mean()\n",
        "\n",
        "mystery_movies = movies[movies['genres'].str.contains('Mystery')]\n",
        "mystery_ratings = ratings[ratings['movieId'].isin(mystery_movies['movieId'])]\n",
        "user_mystery_ratings = mystery_ratings.loc[:, ['userId', 'rating']].groupby(['userId'])['rating'].mean()\n",
        "\n",
        "scifi_movies = movies[movies['genres'].str.contains('Si-Fi')]\n",
        "scifi_ratings = ratings[ratings['movieId'].isin(scifi_movies['movieId'])]\n",
        "user_scifi_ratings = scifi_ratings.loc[:, ['userId', 'rating']].groupby(['userId'])['rating'].mean()\n",
        "\n",
        "war_movies = movies[movies['genres'].str.contains('War')]\n",
        "war_ratings = ratings[ratings['movieId'].isin(war_movies['movieId'])]\n",
        "user_war_ratings = war_ratings.loc[:, ['userId', 'rating']].groupby(['userId'])['rating'].mean()\n",
        "\n",
        "musical_movies = movies[movies['genres'].str.contains('Musical')]\n",
        "musical_ratings = ratings[ratings['movieId'].isin(musical_movies['movieId'])]\n",
        "user_musical_ratings = musical_ratings.loc[:, ['userId', 'rating']].groupby(['userId'])['rating'].mean()\n",
        "\n",
        "documentary_movies = movies[movies['genres'].str.contains('Documentary')]\n",
        "documentary_ratings = ratings[ratings['movieId'].isin(documentary_movies['movieId'])]\n",
        "user_documentary_ratings = documentary_ratings.loc[:, ['userId', 'rating']].groupby(['userId'])['rating'].mean()\n",
        "\n",
        "imax_movies = movies[movies['genres'].str.contains('IMAX')]\n",
        "imax_ratings = ratings[ratings['movieId'].isin(imax_movies['movieId'])]\n",
        "user_imax_ratings = imax_ratings.loc[:, ['userId', 'rating']].groupby(['userId'])['rating'].mean()\n",
        "\n",
        "western_movies = movies[movies['genres'].str.contains('Western')]\n",
        "western_ratings = ratings[ratings['movieId'].isin(western_movies['movieId'])]\n",
        "user_western_ratings = western_ratings.loc[:, ['userId', 'rating']].groupby(['userId'])['rating'].mean()\n",
        "\n",
        "filmnoir_movies = movies[movies['genres'].str.contains('Film-Noir')]\n",
        "filmnoir_ratings = ratings[ratings['movieId'].isin(filmnoir_movies['movieId'])]\n",
        "user_filmnoir_ratings = filmnoir_ratings.loc[:, ['userId', 'rating']].groupby(['userId'])['rating'].mean()"
      ],
      "execution_count": null,
      "outputs": []
    },
    {
      "cell_type": "code",
      "metadata": {
        "id": "QRQequdk7-Mq"
      },
      "source": [
        "genre_ratings = pd.DataFrame(userIds, columns=['userId'])"
      ],
      "execution_count": null,
      "outputs": []
    },
    {
      "cell_type": "code",
      "metadata": {
        "id": "y344UVti8GNn",
        "outputId": "aeacd9e0-7a19-4cfa-d953-6b199460c134",
        "colab": {
          "base_uri": "https://localhost:8080/",
          "height": 402
        }
      },
      "source": [
        "#Select which of the two ratings to compare and to use in clustering\n",
        "#genre_ratings = genre_ratings.merge(user_scifi_ratings, on='userId')\n",
        "#genre_ratings = genre_ratings.merge(user_fantasy_ratings, on='userId')\n",
        "\n",
        "#genre_ratings.columns = ['userId','scifi','fantasy']\n",
        "#genre_ratings\n",
        "\n",
        "genre_ratings = genre_ratings.merge(user_horror_ratings, on='userId')\n",
        "genre_ratings = genre_ratings.merge(user_fantasy_ratings, on='userId')\n",
        "\n",
        "genre_ratings.columns = ['userId','horror','fantasy']\n",
        "genre_ratings"
      ],
      "execution_count": null,
      "outputs": [
        {
          "output_type": "execute_result",
          "data": {
            "text/html": [
              "<div>\n",
              "<style scoped>\n",
              "    .dataframe tbody tr th:only-of-type {\n",
              "        vertical-align: middle;\n",
              "    }\n",
              "\n",
              "    .dataframe tbody tr th {\n",
              "        vertical-align: top;\n",
              "    }\n",
              "\n",
              "    .dataframe thead th {\n",
              "        text-align: right;\n",
              "    }\n",
              "</style>\n",
              "<table border=\"1\" class=\"dataframe\">\n",
              "  <thead>\n",
              "    <tr style=\"text-align: right;\">\n",
              "      <th></th>\n",
              "      <th>userId</th>\n",
              "      <th>horror</th>\n",
              "      <th>fantasy</th>\n",
              "    </tr>\n",
              "  </thead>\n",
              "  <tbody>\n",
              "    <tr>\n",
              "      <th>0</th>\n",
              "      <td>1</td>\n",
              "      <td>3.744444</td>\n",
              "      <td>3.789855</td>\n",
              "    </tr>\n",
              "    <tr>\n",
              "      <th>1</th>\n",
              "      <td>2</td>\n",
              "      <td>3.555556</td>\n",
              "      <td>2.000000</td>\n",
              "    </tr>\n",
              "    <tr>\n",
              "      <th>2</th>\n",
              "      <td>3</td>\n",
              "      <td>3.937500</td>\n",
              "      <td>4.300000</td>\n",
              "    </tr>\n",
              "    <tr>\n",
              "      <th>3</th>\n",
              "      <td>5</td>\n",
              "      <td>3.000000</td>\n",
              "      <td>3.727273</td>\n",
              "    </tr>\n",
              "    <tr>\n",
              "      <th>4</th>\n",
              "      <td>7</td>\n",
              "      <td>3.272727</td>\n",
              "      <td>3.391304</td>\n",
              "    </tr>\n",
              "    <tr>\n",
              "      <th>...</th>\n",
              "      <td>...</td>\n",
              "      <td>...</td>\n",
              "      <td>...</td>\n",
              "    </tr>\n",
              "    <tr>\n",
              "      <th>117683</th>\n",
              "      <td>138488</td>\n",
              "      <td>3.000000</td>\n",
              "      <td>2.666667</td>\n",
              "    </tr>\n",
              "    <tr>\n",
              "      <th>117684</th>\n",
              "      <td>138489</td>\n",
              "      <td>3.750000</td>\n",
              "      <td>3.500000</td>\n",
              "    </tr>\n",
              "    <tr>\n",
              "      <th>117685</th>\n",
              "      <td>138490</td>\n",
              "      <td>5.000000</td>\n",
              "      <td>4.000000</td>\n",
              "    </tr>\n",
              "    <tr>\n",
              "      <th>117686</th>\n",
              "      <td>138491</td>\n",
              "      <td>2.000000</td>\n",
              "      <td>3.000000</td>\n",
              "    </tr>\n",
              "    <tr>\n",
              "      <th>117687</th>\n",
              "      <td>138493</td>\n",
              "      <td>4.086207</td>\n",
              "      <td>4.207692</td>\n",
              "    </tr>\n",
              "  </tbody>\n",
              "</table>\n",
              "<p>117688 rows × 3 columns</p>\n",
              "</div>"
            ],
            "text/plain": [
              "        userId    horror   fantasy\n",
              "0            1  3.744444  3.789855\n",
              "1            2  3.555556  2.000000\n",
              "2            3  3.937500  4.300000\n",
              "3            5  3.000000  3.727273\n",
              "4            7  3.272727  3.391304\n",
              "...        ...       ...       ...\n",
              "117683  138488  3.000000  2.666667\n",
              "117684  138489  3.750000  3.500000\n",
              "117685  138490  5.000000  4.000000\n",
              "117686  138491  2.000000  3.000000\n",
              "117687  138493  4.086207  4.207692\n",
              "\n",
              "[117688 rows x 3 columns]"
            ]
          },
          "metadata": {
            "tags": []
          },
          "execution_count": 38
        }
      ]
    },
    {
      "cell_type": "code",
      "metadata": {
        "id": "13RW2zpA9G1Q",
        "outputId": "2262c60e-b6ca-4e98-b29e-a2bf0aec5fee",
        "colab": {
          "base_uri": "https://localhost:8080/"
        }
      },
      "source": [
        "#Check for NaNs in the dataset\n",
        "len(genre_ratings) - genre_ratings.count()"
      ],
      "execution_count": null,
      "outputs": [
        {
          "output_type": "execute_result",
          "data": {
            "text/plain": [
              "userId     0\n",
              "horror     0\n",
              "fantasy    0\n",
              "dtype: int64"
            ]
          },
          "metadata": {
            "tags": []
          },
          "execution_count": 18
        }
      ]
    },
    {
      "cell_type": "markdown",
      "metadata": {
        "id": "hjPWKxjf3a2K"
      },
      "source": [
        "We now have the data set we need to cluster: values for each user that we are interested in clustering on.\n",
        "\n",
        "Let's plot the data and see what it looks like."
      ]
    },
    {
      "cell_type": "code",
      "metadata": {
        "id": "auRPOd7q_uSJ",
        "outputId": "e761a80a-9c07-410c-8523-f22166161f1c",
        "colab": {
          "base_uri": "https://localhost:8080/",
          "height": 355
        }
      },
      "source": [
        "fig = plt.figure(figsize=(5,5))\n",
        "ax = fig.add_subplot(111)\n",
        "plt.xlim(0, 5)\n",
        "plt.ylim(0, 5)\n",
        "ax.set_xlabel('horror')\n",
        "ax.set_ylabel('fantasy')\n",
        "ax.scatter(genre_ratings['horror'], genre_ratings['fantasy'])"
      ],
      "execution_count": null,
      "outputs": [
        {
          "output_type": "execute_result",
          "data": {
            "text/plain": [
              "<matplotlib.collections.PathCollection at 0x7fbf09a91be0>"
            ]
          },
          "metadata": {
            "tags": []
          },
          "execution_count": 19
        },
        {
          "output_type": "display_data",
          "data": {
            "image/png": "[encoded data removed]",
            "text/plain": [
              "<Figure size 360x360 with 1 Axes>"
            ]
          },
          "metadata": {
            "tags": [],
            "needs_background": "light"
          }
        }
      ]
    },
    {
      "cell_type": "markdown",
      "metadata": {
        "id": "124q8AejASEm"
      },
      "source": [
        "Let's try using K-means on this data."
      ]
    },
    {
      "cell_type": "code",
      "metadata": {
        "id": "D1B3pf0vBkqu",
        "outputId": "f3fb813a-d859-4b57-f8c7-6cade25b7641",
        "colab": {
          "base_uri": "https://localhost:8080/",
          "height": 549
        }
      },
      "source": [
        "X = genre_ratings[['horror', 'fantasy']].values\n",
        "\n",
        "for x in [2, 3]:\n",
        "  kmeans = KMeans(n_clusters = x)\n",
        "\n",
        "  prediction = kmeans.fit_predict(X)\n",
        "\n",
        "  fig = plt.figure(figsize=(4,4))\n",
        "  ax = fig.add_subplot(111)\n",
        "  plt.xlim(0,5)\n",
        "  plt.ylim(0,5)\n",
        "  ax.set_xlabel('horror')\n",
        "  ax.set_ylabel('fantasy')\n",
        "\n",
        "  clustered = pd.concat([genre_ratings.reset_index(), pd.DataFrame({'group':prediction})], axis=1)\n",
        "\n",
        "  ax.scatter(genre_ratings['horror'], genre_ratings['fantasy'], c=clustered['group'], cmap='viridis')"
      ],
      "execution_count": null,
      "outputs": [
        {
          "output_type": "display_data",
          "data": {
            "image/png": "[encoded data removed]",
            "text/plain": [
              "<Figure size 288x288 with 1 Axes>"
            ]
          },
          "metadata": {
            "tags": [],
            "needs_background": "light"
          }
        },
        {
          "output_type": "display_data",
          "data": {
            "image/png": "[encoded data removed]",
            "text/plain": [
              "<Figure size 288x288 with 1 Axes>"
            ]
          },
          "metadata": {
            "tags": [],
            "needs_background": "light"
          }
        }
      ]
    },
    {
      "cell_type": "markdown",
      "metadata": {
        "id": "GXfdLHYqDGaw"
      },
      "source": [
        "K = 3 isn't really giving us super useful data, it seems like it just is groupings based on how much people like movies in genreral instead of related to genre. Let's try figuring out K using the elbow method."
      ]
    },
    {
      "cell_type": "code",
      "metadata": {
        "id": "pLNpyiIHXjnT",
        "outputId": "7cdd8621-ad0c-47f9-d45c-50422910e80b",
        "colab": {
          "base_uri": "https://localhost:8080/",
          "height": 622
        }
      },
      "source": [
        "X = genre_ratings[['horror', 'fantasy']].values\n",
        "\n",
        "distortions = []\n",
        "mapping = {}\n",
        "\n",
        "K = range(1, 40)\n",
        "\n",
        "for k in K:\n",
        " kmeans = KMeans(n_clusters = k)\n",
        " kmeans.fit_predict(X)\n",
        "\n",
        " distortions.append(sum(np.min(cdist(X, kmeans.cluster_centers_, \n",
        "                                    'euclidean'), axis=1)) / X.shape[0])\n",
        "\n",
        " mapping[k] = sum(np.min(cdist(X, kmeans.cluster_centers_, \n",
        "                              'euclidean'), axis=1)) / X.shape[0]\n",
        "\n",
        " plt.plot(K, distortions, 'bx-')\n",
        " plt.xlabel('Values of K')\n",
        " plt.ylabel('Distortion')\n",
        " plt.title('The Elbow Method using Distortion')\n",
        " plt.show()"
      ],
      "execution_count": null,
      "outputs": [
        {
          "output_type": "error",
          "ename": "ValueError",
          "evalue": "ignored",
          "traceback": [
            "\u001b[0;31m---------------------------------------------------------------------------\u001b[0m",
            "\u001b[0;31mValueError\u001b[0m                                Traceback (most recent call last)",
            "\u001b[0;32m<ipython-input-42-ed1865cb9451>\u001b[0m in \u001b[0;36m<module>\u001b[0;34m()\u001b[0m\n\u001b[1;32m     16\u001b[0m                               'euclidean'), axis=1)) / X.shape[0]\n\u001b[1;32m     17\u001b[0m \u001b[0;34m\u001b[0m\u001b[0m\n\u001b[0;32m---> 18\u001b[0;31m  \u001b[0mplt\u001b[0m\u001b[0;34m.\u001b[0m\u001b[0mplot\u001b[0m\u001b[0;34m(\u001b[0m\u001b[0mK\u001b[0m\u001b[0;34m,\u001b[0m \u001b[0mdistortions\u001b[0m\u001b[0;34m,\u001b[0m \u001b[0;34m'bx-'\u001b[0m\u001b[0;34m)\u001b[0m\u001b[0;34m\u001b[0m\u001b[0;34m\u001b[0m\u001b[0m\n\u001b[0m\u001b[1;32m     19\u001b[0m  \u001b[0mplt\u001b[0m\u001b[0;34m.\u001b[0m\u001b[0mxlabel\u001b[0m\u001b[0;34m(\u001b[0m\u001b[0;34m'Values of K'\u001b[0m\u001b[0;34m)\u001b[0m\u001b[0;34m\u001b[0m\u001b[0;34m\u001b[0m\u001b[0m\n\u001b[1;32m     20\u001b[0m  \u001b[0mplt\u001b[0m\u001b[0;34m.\u001b[0m\u001b[0mylabel\u001b[0m\u001b[0;34m(\u001b[0m\u001b[0;34m'Distortion'\u001b[0m\u001b[0;34m)\u001b[0m\u001b[0;34m\u001b[0m\u001b[0;34m\u001b[0m\u001b[0m\n",
            "\u001b[0;32m/usr/local/lib/python3.6/dist-packages/matplotlib/pyplot.py\u001b[0m in \u001b[0;36mplot\u001b[0;34m(scalex, scaley, data, *args, **kwargs)\u001b[0m\n\u001b[1;32m   2761\u001b[0m     return gca().plot(\n\u001b[1;32m   2762\u001b[0m         *args, scalex=scalex, scaley=scaley, **({\"data\": data} if data\n\u001b[0;32m-> 2763\u001b[0;31m         is not None else {}), **kwargs)\n\u001b[0m\u001b[1;32m   2764\u001b[0m \u001b[0;34m\u001b[0m\u001b[0m\n\u001b[1;32m   2765\u001b[0m \u001b[0;34m\u001b[0m\u001b[0m\n",
            "\u001b[0;32m/usr/local/lib/python3.6/dist-packages/matplotlib/axes/_axes.py\u001b[0m in \u001b[0;36mplot\u001b[0;34m(self, scalex, scaley, data, *args, **kwargs)\u001b[0m\n\u001b[1;32m   1645\u001b[0m         \"\"\"\n\u001b[1;32m   1646\u001b[0m         \u001b[0mkwargs\u001b[0m \u001b[0;34m=\u001b[0m \u001b[0mcbook\u001b[0m\u001b[0;34m.\u001b[0m\u001b[0mnormalize_kwargs\u001b[0m\u001b[0;34m(\u001b[0m\u001b[0mkwargs\u001b[0m\u001b[0;34m,\u001b[0m \u001b[0mmlines\u001b[0m\u001b[0;34m.\u001b[0m\u001b[0mLine2D\u001b[0m\u001b[0;34m)\u001b[0m\u001b[0;34m\u001b[0m\u001b[0;34m\u001b[0m\u001b[0m\n\u001b[0;32m-> 1647\u001b[0;31m         \u001b[0mlines\u001b[0m \u001b[0;34m=\u001b[0m \u001b[0;34m[\u001b[0m\u001b[0;34m*\u001b[0m\u001b[0mself\u001b[0m\u001b[0;34m.\u001b[0m\u001b[0m_get_lines\u001b[0m\u001b[0;34m(\u001b[0m\u001b[0;34m*\u001b[0m\u001b[0margs\u001b[0m\u001b[0;34m,\u001b[0m \u001b[0mdata\u001b[0m\u001b[0;34m=\u001b[0m\u001b[0mdata\u001b[0m\u001b[0;34m,\u001b[0m \u001b[0;34m**\u001b[0m\u001b[0mkwargs\u001b[0m\u001b[0;34m)\u001b[0m\u001b[0;34m]\u001b[0m\u001b[0;34m\u001b[0m\u001b[0;34m\u001b[0m\u001b[0m\n\u001b[0m\u001b[1;32m   1648\u001b[0m         \u001b[0;32mfor\u001b[0m \u001b[0mline\u001b[0m \u001b[0;32min\u001b[0m \u001b[0mlines\u001b[0m\u001b[0;34m:\u001b[0m\u001b[0;34m\u001b[0m\u001b[0;34m\u001b[0m\u001b[0m\n\u001b[1;32m   1649\u001b[0m             \u001b[0mself\u001b[0m\u001b[0;34m.\u001b[0m\u001b[0madd_line\u001b[0m\u001b[0;34m(\u001b[0m\u001b[0mline\u001b[0m\u001b[0;34m)\u001b[0m\u001b[0;34m\u001b[0m\u001b[0;34m\u001b[0m\u001b[0m\n",
            "\u001b[0;32m/usr/local/lib/python3.6/dist-packages/matplotlib/axes/_base.py\u001b[0m in \u001b[0;36m__call__\u001b[0;34m(self, *args, **kwargs)\u001b[0m\n\u001b[1;32m    214\u001b[0m                 \u001b[0mthis\u001b[0m \u001b[0;34m+=\u001b[0m \u001b[0margs\u001b[0m\u001b[0;34m[\u001b[0m\u001b[0;36m0\u001b[0m\u001b[0;34m]\u001b[0m\u001b[0;34m,\u001b[0m\u001b[0;34m\u001b[0m\u001b[0;34m\u001b[0m\u001b[0m\n\u001b[1;32m    215\u001b[0m                 \u001b[0margs\u001b[0m \u001b[0;34m=\u001b[0m \u001b[0margs\u001b[0m\u001b[0;34m[\u001b[0m\u001b[0;36m1\u001b[0m\u001b[0;34m:\u001b[0m\u001b[0;34m]\u001b[0m\u001b[0;34m\u001b[0m\u001b[0;34m\u001b[0m\u001b[0m\n\u001b[0;32m--> 216\u001b[0;31m             \u001b[0;32myield\u001b[0m \u001b[0;32mfrom\u001b[0m \u001b[0mself\u001b[0m\u001b[0;34m.\u001b[0m\u001b[0m_plot_args\u001b[0m\u001b[0;34m(\u001b[0m\u001b[0mthis\u001b[0m\u001b[0;34m,\u001b[0m \u001b[0mkwargs\u001b[0m\u001b[0;34m)\u001b[0m\u001b[0;34m\u001b[0m\u001b[0;34m\u001b[0m\u001b[0m\n\u001b[0m\u001b[1;32m    217\u001b[0m \u001b[0;34m\u001b[0m\u001b[0m\n\u001b[1;32m    218\u001b[0m     \u001b[0;32mdef\u001b[0m \u001b[0mget_next_color\u001b[0m\u001b[0;34m(\u001b[0m\u001b[0mself\u001b[0m\u001b[0;34m)\u001b[0m\u001b[0;34m:\u001b[0m\u001b[0;34m\u001b[0m\u001b[0;34m\u001b[0m\u001b[0m\n",
            "\u001b[0;32m/usr/local/lib/python3.6/dist-packages/matplotlib/axes/_base.py\u001b[0m in \u001b[0;36m_plot_args\u001b[0;34m(self, tup, kwargs)\u001b[0m\n\u001b[1;32m    340\u001b[0m \u001b[0;34m\u001b[0m\u001b[0m\n\u001b[1;32m    341\u001b[0m         \u001b[0;32mif\u001b[0m \u001b[0mx\u001b[0m\u001b[0;34m.\u001b[0m\u001b[0mshape\u001b[0m\u001b[0;34m[\u001b[0m\u001b[0;36m0\u001b[0m\u001b[0;34m]\u001b[0m \u001b[0;34m!=\u001b[0m \u001b[0my\u001b[0m\u001b[0;34m.\u001b[0m\u001b[0mshape\u001b[0m\u001b[0;34m[\u001b[0m\u001b[0;36m0\u001b[0m\u001b[0;34m]\u001b[0m\u001b[0;34m:\u001b[0m\u001b[0;34m\u001b[0m\u001b[0;34m\u001b[0m\u001b[0m\n\u001b[0;32m--> 342\u001b[0;31m             raise ValueError(f\"x and y must have same first dimension, but \"\n\u001b[0m\u001b[1;32m    343\u001b[0m                              f\"have shapes {x.shape} and {y.shape}\")\n\u001b[1;32m    344\u001b[0m         \u001b[0;32mif\u001b[0m \u001b[0mx\u001b[0m\u001b[0;34m.\u001b[0m\u001b[0mndim\u001b[0m \u001b[0;34m>\u001b[0m \u001b[0;36m2\u001b[0m \u001b[0;32mor\u001b[0m \u001b[0my\u001b[0m\u001b[0;34m.\u001b[0m\u001b[0mndim\u001b[0m \u001b[0;34m>\u001b[0m \u001b[0;36m2\u001b[0m\u001b[0;34m:\u001b[0m\u001b[0;34m\u001b[0m\u001b[0;34m\u001b[0m\u001b[0m\n",
            "\u001b[0;31mValueError\u001b[0m: x and y must have same first dimension, but have shapes (40,) and (1,)"
          ]
        },
        {
          "output_type": "display_data",
          "data": {
            "image/png": "[encoded data removed]",
            "text/plain": [
              "<Figure size 432x288 with 1 Axes>"
            ]
          },
          "metadata": {
            "tags": [],
            "needs_background": "light"
          }
        }
      ]
    },
    {
      "cell_type": "markdown",
      "metadata": {
        "id": "rUmj0KEUmEww"
      },
      "source": [
        "9 seems reasonable to choose"
      ]
    },
    {
      "cell_type": "code",
      "metadata": {
        "id": "vuEeomItmD9i",
        "outputId": "bca2f02d-ff18-445a-e8a4-578e88eee6cf",
        "colab": {
          "base_uri": "https://localhost:8080/",
          "height": 501
        }
      },
      "source": [
        "X = genre_ratings[['horror', 'fantasy']].values\n",
        "\n",
        "for x in [9]:\n",
        "  kmeasns = KMeans(n_clusters= x)\n",
        "\n",
        "  prediction = kmeans.fit_predict(X)\n",
        "\n",
        "  fig = plt.figure(figsize=(8,8))\n",
        "  ax = fig.add_subplot(111)\n",
        "  plt.xlim(0,5)\n",
        "  plt.ylim(0,5)\n",
        "  ax.set_xlabel('horror')\n",
        "  ax.set_ylabel('fantasy')\n",
        "\n",
        "  clustered = pd.concat([genre_ratings.reset_index(), pd.DataFrame({'group':prediction})], axis=1)\n",
        "\n",
        "  ax.scatter(genre_ratings['horror'], genre_ratings['fantasy'], c=clustered['group'], cmap='viridis')"
      ],
      "execution_count": null,
      "outputs": [
        {
          "output_type": "display_data",
          "data": {
            "image/png": "[encoded data removed]",
            "text/plain": [
              "<Figure size 576x576 with 1 Axes>"
            ]
          },
          "metadata": {
            "tags": [],
            "needs_background": "light"
          }
        }
      ]
    }
  ]
}